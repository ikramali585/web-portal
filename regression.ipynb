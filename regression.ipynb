{
  "cells": [
    {
      "cell_type": "markdown",
      "id": "255fc8de",
      "metadata": {
        "id": "255fc8de"
      },
      "source": [
        "### Required Libaries"
      ]
    },
    {
      "cell_type": "code",
      "source": [
        "from google.colab import drive\n",
        "drive.mount('/content/drive')"
      ],
      "metadata": {
        "colab": {
          "base_uri": "https://localhost:8080/"
        },
        "id": "a9T5n-vDsFQg",
        "outputId": "462d67bc-6832-4027-b64c-d71d21669e00"
      },
      "id": "a9T5n-vDsFQg",
      "execution_count": null,
      "outputs": [
        {
          "output_type": "stream",
          "name": "stdout",
          "text": [
            "Mounted at /content/drive\n"
          ]
        }
      ]
    },
    {
      "cell_type": "code",
      "execution_count": null,
      "id": "4f26b880",
      "metadata": {
        "id": "4f26b880"
      },
      "outputs": [],
      "source": [
        "import pandas as pd\n",
        "import numpy as np\n",
        "import matplotlib\n",
        "from matplotlib import pyplot as plt\n",
        "import sklearn\n",
        "from sklearn.decomposition import PCA # Principal Component analysis\n",
        "from sklearn.preprocessing import StandardScaler # Scaling purpose\n",
        "from sklearn.model_selection import train_test_split\n",
        "from sklearn.ensemble import RandomForestRegressor # RandomForestRegressor\n",
        "# SVR\n",
        "from sklearn import svm\n",
        "from sklearn.svm import SVR\n",
        "# PLSR\n",
        "from sklearn.cross_decomposition import PLSRegression\n",
        "# MLR\n",
        "from sklearn.linear_model import LinearRegression\n",
        "#ensemble --xgboost\n",
        "from sklearn import ensemble\n",
        "# adaboost\n",
        "from sklearn.ensemble import AdaBoostRegressor\n",
        "# Decision Tree Regressor\n",
        "from sklearn.tree import DecisionTreeRegressor\n",
        "# Multi layer Perceptron\n",
        "from sklearn.neural_network import MLPRegressor\n",
        "# Naive Bayes\n",
        "from sklearn.naive_bayes import GaussianNB\n",
        "# Save the model using pickle\n",
        "import pickle\n",
        "# Save the modle using joblib\n",
        "import joblib\n",
        "#performance metrics\n",
        "from sklearn.metrics import r2_score,mean_squared_error,mean_absolute_error"
      ]
    },
    {
      "cell_type": "markdown",
      "id": "99642c38",
      "metadata": {
        "id": "99642c38"
      },
      "source": [
        "## **Dataset**"
      ]
    },
    {
      "cell_type": "code",
      "execution_count": null,
      "id": "d5d6de22",
      "metadata": {
        "id": "d5d6de22"
      },
      "outputs": [],
      "source": [
        "dataset = pd.read_csv(\"/content/drive/MyDrive/FYP/code/terra_dataset_kohat.csv\")"
      ]
    },
    {
      "cell_type": "code",
      "execution_count": null,
      "id": "e221485a",
      "metadata": {
        "id": "e221485a",
        "colab": {
          "base_uri": "https://localhost:8080/",
          "height": 404
        },
        "outputId": "6bcc4a8a-9ab1-4348-cee0-4207566732b2"
      },
      "outputs": [
        {
          "output_type": "execute_result",
          "data": {
            "text/plain": [
              "    Latitude  Longitude     b01     b02     b03     b04     b05     b06  \\\n",
              "0  33.601632  71.265752  0.0853  0.2497  0.0453  0.0796  0.2749  0.2102   \n",
              "1  33.605954  71.253803  0.1253  0.2374  0.0698  0.1077  0.2706  0.2405   \n",
              "2  33.605399  71.235295  0.1504  0.2547  0.0746  0.1161  0.2983  0.2841   \n",
              "3  33.580629  71.209936  0.1100  0.2570  0.0535  0.0901  0.2911  0.2594   \n",
              "4  33.576281  71.192251  0.1186  0.2236  0.0629  0.1018  0.2555  0.2345   \n",
              "\n",
              "      b07      NDVI  ...        BI  Clay  Silt  Sand    pH  CaCo3  \\\n",
              "0  0.1358  0.490746  ...  0.263868     7    70    24  7.20     28   \n",
              "1  0.1846  0.309071  ...  0.268438     9    64    28  7.25     12   \n",
              "2  0.2229  0.257467  ...  0.295791     7    74    20  7.30     14   \n",
              "3  0.1699  0.400545  ...  0.279551    13    62    26  7.42     10   \n",
              "4  0.1739  0.306838  ...  0.253107    11    58    32  7.49     10   \n",
              "\n",
              "   Organic_Matter  Nitrogen  Texture Class     EC  \n",
              "0            0.86      0.04      Silt Loam  0.315  \n",
              "1            0.72      0.04      Silt Loam  0.258  \n",
              "2            0.69      0.03      Silt Loam  0.279  \n",
              "3            1.52      0.08      Silt Loam  0.279  \n",
              "4            1.73      0.09      Silt Loam  0.323  \n",
              "\n",
              "[5 rows x 34 columns]"
            ],
            "text/html": [
              "\n",
              "  <div id=\"df-fdcbf488-4370-450f-b73e-e83112827b0d\">\n",
              "    <div class=\"colab-df-container\">\n",
              "      <div>\n",
              "<style scoped>\n",
              "    .dataframe tbody tr th:only-of-type {\n",
              "        vertical-align: middle;\n",
              "    }\n",
              "\n",
              "    .dataframe tbody tr th {\n",
              "        vertical-align: top;\n",
              "    }\n",
              "\n",
              "    .dataframe thead th {\n",
              "        text-align: right;\n",
              "    }\n",
              "</style>\n",
              "<table border=\"1\" class=\"dataframe\">\n",
              "  <thead>\n",
              "    <tr style=\"text-align: right;\">\n",
              "      <th></th>\n",
              "      <th>Latitude</th>\n",
              "      <th>Longitude</th>\n",
              "      <th>b01</th>\n",
              "      <th>b02</th>\n",
              "      <th>b03</th>\n",
              "      <th>b04</th>\n",
              "      <th>b05</th>\n",
              "      <th>b06</th>\n",
              "      <th>b07</th>\n",
              "      <th>NDVI</th>\n",
              "      <th>...</th>\n",
              "      <th>BI</th>\n",
              "      <th>Clay</th>\n",
              "      <th>Silt</th>\n",
              "      <th>Sand</th>\n",
              "      <th>pH</th>\n",
              "      <th>CaCo3</th>\n",
              "      <th>Organic_Matter</th>\n",
              "      <th>Nitrogen</th>\n",
              "      <th>Texture Class</th>\n",
              "      <th>EC</th>\n",
              "    </tr>\n",
              "  </thead>\n",
              "  <tbody>\n",
              "    <tr>\n",
              "      <th>0</th>\n",
              "      <td>33.601632</td>\n",
              "      <td>71.265752</td>\n",
              "      <td>0.0853</td>\n",
              "      <td>0.2497</td>\n",
              "      <td>0.0453</td>\n",
              "      <td>0.0796</td>\n",
              "      <td>0.2749</td>\n",
              "      <td>0.2102</td>\n",
              "      <td>0.1358</td>\n",
              "      <td>0.490746</td>\n",
              "      <td>...</td>\n",
              "      <td>0.263868</td>\n",
              "      <td>7</td>\n",
              "      <td>70</td>\n",
              "      <td>24</td>\n",
              "      <td>7.20</td>\n",
              "      <td>28</td>\n",
              "      <td>0.86</td>\n",
              "      <td>0.04</td>\n",
              "      <td>Silt Loam</td>\n",
              "      <td>0.315</td>\n",
              "    </tr>\n",
              "    <tr>\n",
              "      <th>1</th>\n",
              "      <td>33.605954</td>\n",
              "      <td>71.253803</td>\n",
              "      <td>0.1253</td>\n",
              "      <td>0.2374</td>\n",
              "      <td>0.0698</td>\n",
              "      <td>0.1077</td>\n",
              "      <td>0.2706</td>\n",
              "      <td>0.2405</td>\n",
              "      <td>0.1846</td>\n",
              "      <td>0.309071</td>\n",
              "      <td>...</td>\n",
              "      <td>0.268438</td>\n",
              "      <td>9</td>\n",
              "      <td>64</td>\n",
              "      <td>28</td>\n",
              "      <td>7.25</td>\n",
              "      <td>12</td>\n",
              "      <td>0.72</td>\n",
              "      <td>0.04</td>\n",
              "      <td>Silt Loam</td>\n",
              "      <td>0.258</td>\n",
              "    </tr>\n",
              "    <tr>\n",
              "      <th>2</th>\n",
              "      <td>33.605399</td>\n",
              "      <td>71.235295</td>\n",
              "      <td>0.1504</td>\n",
              "      <td>0.2547</td>\n",
              "      <td>0.0746</td>\n",
              "      <td>0.1161</td>\n",
              "      <td>0.2983</td>\n",
              "      <td>0.2841</td>\n",
              "      <td>0.2229</td>\n",
              "      <td>0.257467</td>\n",
              "      <td>...</td>\n",
              "      <td>0.295791</td>\n",
              "      <td>7</td>\n",
              "      <td>74</td>\n",
              "      <td>20</td>\n",
              "      <td>7.30</td>\n",
              "      <td>14</td>\n",
              "      <td>0.69</td>\n",
              "      <td>0.03</td>\n",
              "      <td>Silt Loam</td>\n",
              "      <td>0.279</td>\n",
              "    </tr>\n",
              "    <tr>\n",
              "      <th>3</th>\n",
              "      <td>33.580629</td>\n",
              "      <td>71.209936</td>\n",
              "      <td>0.1100</td>\n",
              "      <td>0.2570</td>\n",
              "      <td>0.0535</td>\n",
              "      <td>0.0901</td>\n",
              "      <td>0.2911</td>\n",
              "      <td>0.2594</td>\n",
              "      <td>0.1699</td>\n",
              "      <td>0.400545</td>\n",
              "      <td>...</td>\n",
              "      <td>0.279551</td>\n",
              "      <td>13</td>\n",
              "      <td>62</td>\n",
              "      <td>26</td>\n",
              "      <td>7.42</td>\n",
              "      <td>10</td>\n",
              "      <td>1.52</td>\n",
              "      <td>0.08</td>\n",
              "      <td>Silt Loam</td>\n",
              "      <td>0.279</td>\n",
              "    </tr>\n",
              "    <tr>\n",
              "      <th>4</th>\n",
              "      <td>33.576281</td>\n",
              "      <td>71.192251</td>\n",
              "      <td>0.1186</td>\n",
              "      <td>0.2236</td>\n",
              "      <td>0.0629</td>\n",
              "      <td>0.1018</td>\n",
              "      <td>0.2555</td>\n",
              "      <td>0.2345</td>\n",
              "      <td>0.1739</td>\n",
              "      <td>0.306838</td>\n",
              "      <td>...</td>\n",
              "      <td>0.253107</td>\n",
              "      <td>11</td>\n",
              "      <td>58</td>\n",
              "      <td>32</td>\n",
              "      <td>7.49</td>\n",
              "      <td>10</td>\n",
              "      <td>1.73</td>\n",
              "      <td>0.09</td>\n",
              "      <td>Silt Loam</td>\n",
              "      <td>0.323</td>\n",
              "    </tr>\n",
              "  </tbody>\n",
              "</table>\n",
              "<p>5 rows × 34 columns</p>\n",
              "</div>\n",
              "      <button class=\"colab-df-convert\" onclick=\"convertToInteractive('df-fdcbf488-4370-450f-b73e-e83112827b0d')\"\n",
              "              title=\"Convert this dataframe to an interactive table.\"\n",
              "              style=\"display:none;\">\n",
              "        \n",
              "  <svg xmlns=\"http://www.w3.org/2000/svg\" height=\"24px\"viewBox=\"0 0 24 24\"\n",
              "       width=\"24px\">\n",
              "    <path d=\"M0 0h24v24H0V0z\" fill=\"none\"/>\n",
              "    <path d=\"M18.56 5.44l.94 2.06.94-2.06 2.06-.94-2.06-.94-.94-2.06-.94 2.06-2.06.94zm-11 1L8.5 8.5l.94-2.06 2.06-.94-2.06-.94L8.5 2.5l-.94 2.06-2.06.94zm10 10l.94 2.06.94-2.06 2.06-.94-2.06-.94-.94-2.06-.94 2.06-2.06.94z\"/><path d=\"M17.41 7.96l-1.37-1.37c-.4-.4-.92-.59-1.43-.59-.52 0-1.04.2-1.43.59L10.3 9.45l-7.72 7.72c-.78.78-.78 2.05 0 2.83L4 21.41c.39.39.9.59 1.41.59.51 0 1.02-.2 1.41-.59l7.78-7.78 2.81-2.81c.8-.78.8-2.07 0-2.86zM5.41 20L4 18.59l7.72-7.72 1.47 1.35L5.41 20z\"/>\n",
              "  </svg>\n",
              "      </button>\n",
              "      \n",
              "  <style>\n",
              "    .colab-df-container {\n",
              "      display:flex;\n",
              "      flex-wrap:wrap;\n",
              "      gap: 12px;\n",
              "    }\n",
              "\n",
              "    .colab-df-convert {\n",
              "      background-color: #E8F0FE;\n",
              "      border: none;\n",
              "      border-radius: 50%;\n",
              "      cursor: pointer;\n",
              "      display: none;\n",
              "      fill: #1967D2;\n",
              "      height: 32px;\n",
              "      padding: 0 0 0 0;\n",
              "      width: 32px;\n",
              "    }\n",
              "\n",
              "    .colab-df-convert:hover {\n",
              "      background-color: #E2EBFA;\n",
              "      box-shadow: 0px 1px 2px rgba(60, 64, 67, 0.3), 0px 1px 3px 1px rgba(60, 64, 67, 0.15);\n",
              "      fill: #174EA6;\n",
              "    }\n",
              "\n",
              "    [theme=dark] .colab-df-convert {\n",
              "      background-color: #3B4455;\n",
              "      fill: #D2E3FC;\n",
              "    }\n",
              "\n",
              "    [theme=dark] .colab-df-convert:hover {\n",
              "      background-color: #434B5C;\n",
              "      box-shadow: 0px 1px 3px 1px rgba(0, 0, 0, 0.15);\n",
              "      filter: drop-shadow(0px 1px 2px rgba(0, 0, 0, 0.3));\n",
              "      fill: #FFFFFF;\n",
              "    }\n",
              "  </style>\n",
              "\n",
              "      <script>\n",
              "        const buttonEl =\n",
              "          document.querySelector('#df-fdcbf488-4370-450f-b73e-e83112827b0d button.colab-df-convert');\n",
              "        buttonEl.style.display =\n",
              "          google.colab.kernel.accessAllowed ? 'block' : 'none';\n",
              "\n",
              "        async function convertToInteractive(key) {\n",
              "          const element = document.querySelector('#df-fdcbf488-4370-450f-b73e-e83112827b0d');\n",
              "          const dataTable =\n",
              "            await google.colab.kernel.invokeFunction('convertToInteractive',\n",
              "                                                     [key], {});\n",
              "          if (!dataTable) return;\n",
              "\n",
              "          const docLinkHtml = 'Like what you see? Visit the ' +\n",
              "            '<a target=\"_blank\" href=https://colab.research.google.com/notebooks/data_table.ipynb>data table notebook</a>'\n",
              "            + ' to learn more about interactive tables.';\n",
              "          element.innerHTML = '';\n",
              "          dataTable['output_type'] = 'display_data';\n",
              "          await google.colab.output.renderOutput(dataTable, element);\n",
              "          const docLink = document.createElement('div');\n",
              "          docLink.innerHTML = docLinkHtml;\n",
              "          element.appendChild(docLink);\n",
              "        }\n",
              "      </script>\n",
              "    </div>\n",
              "  </div>\n",
              "  "
            ]
          },
          "metadata": {},
          "execution_count": 7
        }
      ],
      "source": [
        "# Five 5 rows\n",
        "dataset.head()"
      ]
    },
    {
      "cell_type": "code",
      "execution_count": null,
      "id": "965ba6ca",
      "metadata": {
        "id": "965ba6ca"
      },
      "outputs": [],
      "source": [
        "# dataset.info()"
      ]
    },
    {
      "cell_type": "code",
      "execution_count": null,
      "id": "311d6fb3",
      "metadata": {
        "id": "311d6fb3"
      },
      "outputs": [],
      "source": [
        "# dataset.describe()"
      ]
    },
    {
      "cell_type": "code",
      "execution_count": null,
      "id": "5f689017",
      "metadata": {
        "id": "5f689017"
      },
      "outputs": [],
      "source": [
        "# Check null/empty/0 values\n",
        "# dataset.isnull().sum() "
      ]
    },
    {
      "cell_type": "markdown",
      "id": "8d2ae5a7",
      "metadata": {
        "id": "8d2ae5a7"
      },
      "source": [
        "## **Bands Correlations with 'EC'**"
      ]
    },
    {
      "cell_type": "code",
      "execution_count": 8,
      "id": "85a4393e",
      "metadata": {
        "colab": {
          "base_uri": "https://localhost:8080/"
        },
        "id": "85a4393e",
        "outputId": "d6ab1ec5-c10c-4d9b-d99f-73b6bb8bc6c7"
      },
      "outputs": [
        {
          "output_type": "stream",
          "name": "stdout",
          "text": [
            "          b01       b02       b03       b04       b05       b06       b07  \\\n",
            "b01  1.000000  0.223332  0.925227  0.959333  0.392922  0.818049  0.936327   \n",
            "b02  0.223332  1.000000  0.280283  0.303294  0.723716  0.342278  0.180884   \n",
            "b03  0.925227  0.280283  1.000000  0.967229  0.337289  0.693131  0.805600   \n",
            "b04  0.959333  0.303294  0.967229  1.000000  0.335473  0.707988  0.852755   \n",
            "b05  0.392922  0.723716  0.337289  0.335473  1.000000  0.691440  0.473564   \n",
            "b06  0.818049  0.342278  0.693131  0.707988  0.691440  1.000000  0.907978   \n",
            "b07  0.936327  0.180884  0.805600  0.852755  0.473564  0.907978  1.000000   \n",
            "EC  -0.120900  0.166062 -0.083170 -0.003805 -0.181765 -0.338927 -0.248779   \n",
            "\n",
            "           EC  \n",
            "b01 -0.120900  \n",
            "b02  0.166062  \n",
            "b03 -0.083170  \n",
            "b04 -0.003805  \n",
            "b05 -0.181765  \n",
            "b06 -0.338927  \n",
            "b07 -0.248779  \n",
            "EC   1.000000  \n"
          ]
        }
      ],
      "source": [
        "bands = ['b01','b02','b03','b04','b05','b06','b07','EC']\n",
        "bands_corr =  dataset.loc[:,bands]\n",
        "corr1 = bands_corr.corr(method = \"pearson\")\n",
        "print(corr1)"
      ]
    },
    {
      "cell_type": "markdown",
      "id": "6a1d4ef3",
      "metadata": {
        "id": "6a1d4ef3"
      },
      "source": [
        "## **Vegetation Indices Correlations with 'EC'**"
      ]
    },
    {
      "cell_type": "code",
      "execution_count": 9,
      "id": "bdfc2163",
      "metadata": {
        "colab": {
          "base_uri": "https://localhost:8080/"
        },
        "id": "bdfc2163",
        "outputId": "8e7f6e6a-42b6-4a00-ba29-1d0be0e89ab9"
      },
      "outputs": [
        {
          "output_type": "stream",
          "name": "stdout",
          "text": [
            "             NDVI       DVI       EVI      SAVI     OSAVI      EVI2   MASAVI2  \\\n",
            "NDVI     1.000000  0.944019  0.974612  0.983846  0.995936  0.981459  0.976352   \n",
            "DVI      0.944019  1.000000  0.987775  0.987781  0.969834  0.989615  0.992763   \n",
            "EVI      0.974612  0.987775  1.000000  0.995584  0.989100  0.995782  0.995750   \n",
            "SAVI     0.983846  0.987781  0.995584  1.000000  0.995966  0.999854  0.999135   \n",
            "OSAVI    0.995936  0.969834  0.989100  0.995966  1.000000  0.994691  0.991764   \n",
            "EVI2     0.981459  0.989615  0.995782  0.999854  0.994691  1.000000  0.999670   \n",
            "MASAVI2  0.976352  0.992763  0.995750  0.999135  0.991764  0.999670  1.000000   \n",
            "BI      -0.293344  0.031815 -0.094633 -0.121956 -0.208657 -0.108145 -0.082860   \n",
            "EC       0.204823  0.222441  0.220543  0.214531  0.209692  0.220235  0.224614   \n",
            "\n",
            "               BI        EC  \n",
            "NDVI    -0.293344  0.204823  \n",
            "DVI      0.031815  0.222441  \n",
            "EVI     -0.094633  0.220543  \n",
            "SAVI    -0.121956  0.214531  \n",
            "OSAVI   -0.208657  0.209692  \n",
            "EVI2    -0.108145  0.220235  \n",
            "MASAVI2 -0.082860  0.224614  \n",
            "BI       1.000000  0.086717  \n",
            "EC       0.086717  1.000000  \n"
          ]
        }
      ],
      "source": [
        "vegetation = ['NDVI','DVI','EVI','SAVI','OSAVI','EVI2','MASAVI2','BI','EC']\n",
        "vegetation_corr = dataset.loc[:,vegetation]\n",
        "corr2 = vegetation_corr .corr(method = \"pearson\")\n",
        "print(corr2)"
      ]
    },
    {
      "cell_type": "markdown",
      "id": "2a8713c0",
      "metadata": {
        "id": "2a8713c0"
      },
      "source": [
        "## **Salinity Indices Correlations with 'EC'**"
      ]
    },
    {
      "cell_type": "code",
      "execution_count": 10,
      "id": "78b75e53",
      "metadata": {
        "colab": {
          "base_uri": "https://localhost:8080/"
        },
        "id": "78b75e53",
        "outputId": "16c21886-93fc-4a43-e46a-d86d8d86c79b"
      },
      "outputs": [
        {
          "output_type": "stream",
          "name": "stdout",
          "text": [
            "          NDSI      VSSI        SI       SI1       SI2       SI3       SI4  \\\n",
            "NDSI  1.000000 -0.472037  0.878894  0.893906  0.762649  0.437904  0.898660   \n",
            "VSSI -0.472037  1.000000 -0.750682 -0.789810 -0.928412 -0.989471 -0.789656   \n",
            "SI    0.878894 -0.750682  1.000000  0.945270  0.912004  0.724695  0.949790   \n",
            "SI1   0.893906 -0.789810  0.945270  1.000000  0.957584  0.784668  0.999721   \n",
            "SI2   0.762649 -0.928412  0.912004  0.957584  1.000000  0.911756  0.958366   \n",
            "SI3   0.437904 -0.989471  0.724695  0.784668  0.911756  1.000000  0.781475   \n",
            "SI4   0.898660 -0.789656  0.949790  0.999721  0.958366  0.781475  1.000000   \n",
            "SI5  -0.288458  0.095280 -0.434743 -0.134277 -0.154195  0.001788 -0.152626   \n",
            "EC   -0.204823 -0.006517 -0.052433 -0.070201 -0.074005  0.074027 -0.076122   \n",
            "\n",
            "           SI5        EC  \n",
            "NDSI -0.288458 -0.204823  \n",
            "VSSI  0.095280 -0.006517  \n",
            "SI   -0.434743 -0.052433  \n",
            "SI1  -0.134277 -0.070201  \n",
            "SI2  -0.154195 -0.074005  \n",
            "SI3   0.001788  0.074027  \n",
            "SI4  -0.152626 -0.076122  \n",
            "SI5   1.000000  0.099641  \n",
            "EC    0.099641  1.000000  \n"
          ]
        }
      ],
      "source": [
        "salinity = ['NDSI','VSSI','SI','SI1','SI2','SI3','SI4','SI5','EC']\n",
        "salinity_corr = dataset.loc[:,salinity ]\n",
        "corr3 = salinity_corr.corr(method = \"pearson\")\n",
        "print(corr3)"
      ]
    },
    {
      "cell_type": "markdown",
      "id": "1ec44d9e",
      "metadata": {
        "id": "1ec44d9e"
      },
      "source": [
        "## **Features and Labels**"
      ]
    },
    {
      "cell_type": "code",
      "execution_count": 11,
      "id": "09967545",
      "metadata": {
        "id": "09967545"
      },
      "outputs": [],
      "source": [
        "features_columns = ['b01','b02','b03','b04','b05','b06','b07','NDVI','DVI','SAVI','OSAVI','EVI2','MASAVI2'\n",
        "                    ,'NDSI','VSSI','SI','SI1','SI2','SI3','SI4','SI5']\n",
        "# features_columns = ['b02','NDVI','DVI','EVI','SAVI','OSAVI','EVI2','MASAVI2','SI3','SI5'] #based on positive correlation"
      ]
    },
    {
      "cell_type": "code",
      "execution_count": 12,
      "id": "71ef5e35",
      "metadata": {
        "id": "71ef5e35"
      },
      "outputs": [],
      "source": [
        "features =dataset.loc[:,features_columns]"
      ]
    },
    {
      "cell_type": "code",
      "execution_count": 13,
      "id": "fee9c80d",
      "metadata": {
        "id": "fee9c80d"
      },
      "outputs": [],
      "source": [
        "# features.info()\n"
      ]
    },
    {
      "cell_type": "markdown",
      "source": [
        "***Noise Removal***"
      ],
      "metadata": {
        "id": "R-O0gG8bVP9f"
      },
      "id": "R-O0gG8bVP9f"
    },
    {
      "cell_type": "code",
      "source": [
        "from scipy.signal import savgol_filter\n",
        "feature_filtered = savgol_filter(features,21,3) #window = ant ositive odd number, 3rd parameter= polyorder"
      ],
      "metadata": {
        "id": "G_qdxixyVTfr"
      },
      "id": "G_qdxixyVTfr",
      "execution_count": 14,
      "outputs": []
    },
    {
      "cell_type": "code",
      "source": [
        "feature_filtered"
      ],
      "metadata": {
        "colab": {
          "base_uri": "https://localhost:8080/"
        },
        "id": "YZjocyaFsnA5",
        "outputId": "01147614-27e1-4037-bc39-a02eb556c60b"
      },
      "id": "YZjocyaFsnA5",
      "execution_count": 15,
      "outputs": [
        {
          "output_type": "execute_result",
          "data": {
            "text/plain": [
              "array([[-0.08309124,  0.10026449,  0.22957472, ...,  0.09027513,\n",
              "         0.26492278,  0.49894975],\n",
              "       [-0.01264015,  0.13598739,  0.236255  , ...,  0.1211688 ,\n",
              "         0.31011433,  0.55785249],\n",
              "       [ 0.01992991,  0.16105175,  0.25431687, ...,  0.1135837 ,\n",
              "         0.30744818,  0.56100461],\n",
              "       ...,\n",
              "       [-0.00395927,  0.14830887,  0.25084103, ...,  0.10936309,\n",
              "         0.30052746,  0.55185513],\n",
              "       [-0.08309124,  0.10026449,  0.22957472, ...,  0.09027513,\n",
              "         0.26492278,  0.49894975],\n",
              "       [-0.02703803,  0.1334592 ,  0.24286831, ...,  0.11980471,\n",
              "         0.31216107,  0.56536404]])"
            ]
          },
          "metadata": {},
          "execution_count": 15
        }
      ]
    },
    {
      "cell_type": "markdown",
      "source": [
        "***PCA Implementation***"
      ],
      "metadata": {
        "id": "voK1PPOXd9wd"
      },
      "id": "voK1PPOXd9wd"
    },
    {
      "cell_type": "code",
      "source": [
        "pca1 = PCA(n_components = 7)\n",
        "pca_first = pca1.fit_transform(features)"
      ],
      "metadata": {
        "id": "csVLL-bjeBAz"
      },
      "id": "csVLL-bjeBAz",
      "execution_count": 16,
      "outputs": []
    },
    {
      "cell_type": "code",
      "source": [
        "print(pca_first.shape)"
      ],
      "metadata": {
        "colab": {
          "base_uri": "https://localhost:8080/"
        },
        "id": "2AUUvSdAlJoh",
        "outputId": "40fcd708-2037-4c98-c030-b2e0d1b28000"
      },
      "id": "2AUUvSdAlJoh",
      "execution_count": 17,
      "outputs": [
        {
          "output_type": "stream",
          "name": "stdout",
          "text": [
            "(50, 7)\n"
          ]
        }
      ]
    },
    {
      "cell_type": "code",
      "source": [
        "pca_first"
      ],
      "metadata": {
        "colab": {
          "base_uri": "https://localhost:8080/"
        },
        "id": "0rIv1yYA4Cpb",
        "outputId": "de064373-0a68-4830-ac96-64efc15a7f27"
      },
      "id": "0rIv1yYA4Cpb",
      "execution_count": 18,
      "outputs": [
        {
          "output_type": "execute_result",
          "data": {
            "text/plain": [
              "array([[ 3.44777731e-01, -4.80150877e-02,  1.71852427e-02,\n",
              "        -1.30479553e-02, -6.21958240e-03, -6.88900870e-03,\n",
              "         1.99433554e-03],\n",
              "       [-6.41794914e-02,  6.14578244e-02, -3.96472596e-02,\n",
              "        -1.20919845e-02,  6.03385041e-03, -4.27639838e-03,\n",
              "         2.55102687e-03],\n",
              "       [-2.65700897e-01, -7.09422314e-02,  1.71471573e-02,\n",
              "        -2.15441211e-02,  1.69026562e-02,  2.79606147e-03,\n",
              "         3.45203138e-03],\n",
              "       [ 9.99279325e-02, -9.16566307e-02,  5.16959893e-02,\n",
              "        -1.23262672e-02,  1.01234966e-02,  8.91305674e-03,\n",
              "        -1.45237663e-03],\n",
              "       [-3.31621323e-02,  1.55415708e-01, -1.40062689e-02,\n",
              "        -1.67448801e-02,  5.47068287e-03, -1.56504021e-03,\n",
              "        -3.68213686e-03],\n",
              "       [ 2.42031326e-02,  7.09912222e-02, -5.85932620e-03,\n",
              "        -6.03079324e-03,  6.31317555e-03,  5.37324062e-03,\n",
              "        -6.64413537e-05],\n",
              "       [ 3.66224830e-02, -8.53808562e-02,  2.74626283e-02,\n",
              "         2.42967118e-03,  1.24171077e-03, -2.26493567e-03,\n",
              "        -3.21668489e-03],\n",
              "       [ 1.31006787e-01,  1.83702497e-02,  9.10486095e-03,\n",
              "         9.73514992e-03,  1.31165006e-03,  1.07311416e-02,\n",
              "        -3.55155328e-03],\n",
              "       [ 7.14320293e-02,  3.68355382e-02, -1.47582164e-02,\n",
              "         9.87425361e-03,  9.21600068e-03,  2.54295582e-03,\n",
              "         7.12669274e-04],\n",
              "       [ 1.90587032e-02,  1.73508347e-02, -4.90146932e-03,\n",
              "         1.41227845e-03,  7.17404534e-03, -1.96473672e-03,\n",
              "        -3.41930826e-03],\n",
              "       [ 1.55777422e-01, -3.58035199e-02,  7.87303204e-04,\n",
              "        -6.61314355e-03, -7.57187294e-03,  8.19069267e-03,\n",
              "         6.32941727e-03],\n",
              "       [-1.21069203e-01,  1.74331157e-01, -1.64001533e-02,\n",
              "        -9.16078469e-03, -6.55563687e-03, -1.05956608e-03,\n",
              "        -2.07654713e-04],\n",
              "       [-2.55286216e-01, -2.16148033e-02,  2.39354433e-02,\n",
              "        -1.29715378e-03, -8.09635096e-03, -8.70267794e-03,\n",
              "        -1.59664412e-03],\n",
              "       [-2.33610088e-01, -1.09148471e-02,  2.68488160e-02,\n",
              "        -2.53493111e-03, -2.87653123e-03,  2.32150591e-03,\n",
              "        -6.11231800e-03],\n",
              "       [-2.07010348e-01, -2.92196244e-02,  3.99313439e-02,\n",
              "        -3.85811445e-03, -6.14176682e-03, -8.62681230e-03,\n",
              "        -5.78296608e-03],\n",
              "       [-1.44549163e-01, -2.09887767e-02,  2.63819953e-02,\n",
              "         1.56130765e-02, -7.30351557e-03,  2.09286707e-03,\n",
              "        -2.91544330e-03],\n",
              "       [ 9.69745398e-02,  4.47828257e-02,  1.01994456e-02,\n",
              "         2.58564899e-02, -5.58772951e-03,  1.97605176e-03,\n",
              "        -5.23422393e-03],\n",
              "       [ 1.59494441e-02,  1.41318104e-01, -3.44765663e-02,\n",
              "         2.38439222e-02, -4.93314894e-04, -1.61073343e-03,\n",
              "         2.94164091e-03],\n",
              "       [ 2.93605569e-03,  7.11969666e-02,  1.94885552e-02,\n",
              "         1.21634951e-02,  5.35781419e-03, -2.26580297e-03,\n",
              "         2.78186717e-03],\n",
              "       [-1.11996659e-01,  1.94668461e-02,  3.32916078e-02,\n",
              "         3.68734193e-03, -1.80355209e-03,  3.70045292e-03,\n",
              "         4.11627313e-03],\n",
              "       [-1.33507921e-01, -6.02125416e-02,  6.74326451e-02,\n",
              "         1.79166751e-02, -1.07670269e-03, -4.70186014e-03,\n",
              "        -4.90515076e-03],\n",
              "       [-5.55139455e-02,  1.37967845e-01,  6.73521658e-02,\n",
              "         3.03506664e-03, -7.04095660e-03,  6.84482638e-04,\n",
              "         3.61083408e-03],\n",
              "       [ 2.43971172e-02,  7.15618105e-02,  3.44907475e-02,\n",
              "        -2.58064154e-02,  1.09400902e-02, -2.34168600e-03,\n",
              "         7.55124522e-03],\n",
              "       [-3.59465214e-02,  1.72888225e-01,  5.20452311e-02,\n",
              "         7.08089427e-03, -6.16144552e-03, -5.03518646e-03,\n",
              "         1.09417374e-02],\n",
              "       [ 1.99447336e-01,  8.87948830e-02,  3.51238275e-02,\n",
              "         1.51384369e-03, -4.76817129e-03, -3.63528423e-03,\n",
              "        -8.37723545e-04],\n",
              "       [-1.74501521e-01, -5.92484047e-02, -1.19891587e-02,\n",
              "         1.96011212e-02, -2.38332794e-03,  5.57727393e-03,\n",
              "        -1.03947982e-03],\n",
              "       [-6.84309261e-02,  1.18210984e-01, -3.71474913e-02,\n",
              "         9.43415618e-03, -1.99132881e-03, -3.96492399e-03,\n",
              "         3.89037528e-03],\n",
              "       [-1.29449947e-01,  3.05940268e-02,  8.98202616e-04,\n",
              "         9.53492933e-03,  8.23141903e-03, -8.43310822e-04,\n",
              "         6.94474849e-03],\n",
              "       [ 2.31250686e-01, -6.51424606e-02, -3.68920156e-02,\n",
              "         3.07195978e-02,  5.67900045e-03, -2.23341345e-03,\n",
              "         2.89023494e-03],\n",
              "       [ 2.15162279e-01,  1.82921325e-02, -7.71435875e-03,\n",
              "         2.03024250e-02, -5.47063627e-03,  1.66296816e-03,\n",
              "        -1.19544335e-03],\n",
              "       [ 2.02902731e-02, -9.13614076e-02, -2.67800440e-03,\n",
              "         2.07283302e-02,  1.27172243e-03,  5.91889795e-03,\n",
              "         3.12545956e-03],\n",
              "       [ 1.24215701e-01, -1.23667166e-01,  1.58989023e-02,\n",
              "         9.90201461e-03,  2.01361271e-02, -2.84791747e-03,\n",
              "        -6.81004868e-03],\n",
              "       [ 1.79290186e-01, -5.43843702e-02, -1.67685452e-02,\n",
              "         1.66498105e-02,  8.03573734e-03, -6.26261977e-03,\n",
              "         2.89036369e-03],\n",
              "       [-1.35841681e-01, -9.03288623e-02, -1.89133429e-02,\n",
              "         9.70739563e-03, -8.41475568e-03,  6.44108344e-03,\n",
              "         5.31267409e-04],\n",
              "       [ 1.47755947e-01, -6.97885221e-02, -2.64084746e-02,\n",
              "         3.36839322e-02, -3.85958469e-03, -4.01717791e-03,\n",
              "        -9.45890700e-04],\n",
              "       [-1.57189794e-01, -5.12272648e-02, -3.90096041e-02,\n",
              "         2.00828634e-02, -1.58110376e-03, -3.18082293e-03,\n",
              "         3.46351938e-04],\n",
              "       [ 8.53895758e-02, -4.63520883e-02,  1.25275246e-02,\n",
              "        -9.06948500e-03, -1.42786516e-02,  2.40382957e-02,\n",
              "        -5.23500531e-05],\n",
              "       [ 4.34264274e-01, -1.16687321e-01, -7.13436131e-04,\n",
              "        -3.15917906e-02, -8.12142021e-03, -8.42019008e-03,\n",
              "        -3.78023797e-03],\n",
              "       [ 8.89820791e-02,  2.27819695e-01, -3.26620832e-02,\n",
              "        -1.18361910e-02, -3.48699748e-04,  6.06150370e-03,\n",
              "        -8.09131759e-03],\n",
              "       [ 3.72354510e-02, -1.97876666e-03, -3.30068477e-02,\n",
              "        -2.74353476e-02,  1.22430162e-03,  4.89644518e-03,\n",
              "        -1.81920577e-03],\n",
              "       [-1.50282315e-01, -1.59364358e-02, -6.12449108e-02,\n",
              "        -1.21778383e-02, -1.41288915e-03,  3.11175651e-03,\n",
              "         3.30470363e-03],\n",
              "       [-1.54623151e-01,  7.27980971e-02, -1.96812289e-02,\n",
              "        -1.70792364e-02,  1.81559459e-03, -6.46247540e-03,\n",
              "        -6.79881385e-03],\n",
              "       [-2.75394995e-01, -9.76671762e-02, -1.98201402e-02,\n",
              "        -1.31049767e-02, -1.36721364e-02, -5.66123379e-03,\n",
              "        -2.86429309e-03],\n",
              "       [-1.83246456e-01, -1.96793902e-01, -3.75387919e-02,\n",
              "        -1.85283486e-02, -1.43340306e-02, -2.82859175e-03,\n",
              "         5.47565082e-03],\n",
              "       [ 7.65832939e-02, -1.31261760e-01, -9.16264360e-03,\n",
              "        -2.78274454e-02,  9.92462530e-04, -6.90984188e-04,\n",
              "         5.31290885e-03],\n",
              "       [ 1.29436666e-01,  1.53914995e-01, -1.81638310e-02,\n",
              "        -1.87704698e-02,  8.46036593e-07,  1.80131525e-03,\n",
              "        -4.58480497e-03],\n",
              "       [-1.22811216e-01, -8.49999508e-02, -1.26713578e-02,\n",
              "         6.29942052e-03,  1.04257876e-02, -4.28348275e-04,\n",
              "        -1.10556565e-03],\n",
              "       [-1.30029679e-01, -7.47979105e-02,  1.15036220e-02,\n",
              "        -1.09141363e-02,  1.57567035e-02,  3.74029022e-03,\n",
              "         3.25147711e-04],\n",
              "       [ 3.44777731e-01, -4.80150877e-02,  1.71852427e-02,\n",
              "        -1.30479553e-02, -6.21958240e-03, -6.88900870e-03,\n",
              "         1.99433554e-03],\n",
              "       [ 6.18940974e-03, -9.97219420e-03, -4.56829732e-02,\n",
              "         1.63161004e-03,  1.30401660e-04, -2.90159152e-03,\n",
              "        -1.94654895e-03]])"
            ]
          },
          "metadata": {},
          "execution_count": 18
        }
      ]
    },
    {
      "cell_type": "markdown",
      "source": [
        "***Scaling***"
      ],
      "metadata": {
        "id": "xWhj9r8RQf0C"
      },
      "id": "xWhj9r8RQf0C"
    },
    {
      "cell_type": "code",
      "source": [
        "scaler = StandardScaler()\n",
        "features_scaled = pd.DataFrame(scaler.fit_transform(pca_first))"
      ],
      "metadata": {
        "id": "grsi5wkdQn9u"
      },
      "id": "grsi5wkdQn9u",
      "execution_count": 19,
      "outputs": []
    },
    {
      "cell_type": "code",
      "source": [
        "print(features_scaled)"
      ],
      "metadata": {
        "id": "YcpC9deIzHiz",
        "colab": {
          "base_uri": "https://localhost:8080/"
        },
        "outputId": "625414b7-bac8-4edc-a91f-9b760aecb539"
      },
      "id": "YcpC9deIzHiz",
      "execution_count": 20,
      "outputs": [
        {
          "output_type": "stream",
          "name": "stdout",
          "text": [
            "           0         1         2         3         4         5         6\n",
            "0   2.109464 -0.519323  0.576703 -0.808119 -0.803252 -1.176223  0.484486\n",
            "1  -0.392671  0.664718 -1.330484 -0.748911  0.779265 -0.730148  0.619723\n",
            "2  -1.625646 -0.767300  0.575425 -1.334325  2.182959  0.477397  0.838605\n",
            "3   0.611392 -0.991343  1.734816 -0.763422  1.307438  1.521806 -0.352827\n",
            "4  -0.202897  1.680951 -0.470023 -1.037086  0.706533 -0.267213 -0.894505\n",
            "5   0.148083  0.767829 -0.196627 -0.373514  0.815340  0.917422 -0.016141\n",
            "6   0.224068 -0.923465  0.921592  0.150481  0.160366 -0.386713 -0.781432\n",
            "7   0.801543  0.198690  0.305541  0.602942  0.169398  1.832224 -0.862782\n",
            "8   0.437045  0.398407 -0.495257  0.611557  1.190236  0.434182  0.173129\n",
            "9   0.116607  0.187664 -0.164484  0.087469  0.926520 -0.335457 -0.830656\n",
            "10  0.953098 -0.387245  0.026420 -0.409582 -0.977899  1.398471  1.537611\n",
            "11 -0.740741  1.885537 -0.550357 -0.567369 -0.846653 -0.180909 -0.050446\n",
            "12 -1.561925 -0.233782  0.803227 -0.080339 -1.045635 -1.485887 -0.387874\n",
            "13 -1.429304 -0.118053  0.900994 -0.157000 -0.371501  0.396372 -1.484871\n",
            "14 -1.266558 -0.316035  1.340018 -0.238951 -0.793202 -1.472933 -1.404861\n",
            "15 -0.884399 -0.227011  0.885328  0.966989 -0.943241  0.357334 -0.708251\n",
            "16  0.593322  0.484364  0.342273  1.601410 -0.721649  0.337389 -1.271555\n",
            "17  0.097584  1.528473 -1.156966  1.476762 -0.063711 -0.275015  0.714615\n",
            "18  0.017964  0.770055  0.653998  0.753340  0.691956 -0.386861  0.675801\n",
            "19 -0.685232  0.210550  1.117201  0.228374 -0.232927  0.631812  0.999970\n",
            "20 -0.816845 -0.651249  2.262907  1.109661 -0.139055 -0.802791 -1.191613\n",
            "21 -0.339653  1.492238  2.260207  0.187975 -0.909332  0.116868  0.877183\n",
            "22  0.149270  0.774001  1.157442 -1.598308  1.412901 -0.399817  1.834431\n",
            "23 -0.219933  1.869931  1.746536  0.438552 -0.795744 -0.859703  2.658086\n",
            "24  1.220285  0.960391  1.178687  0.093759 -0.615804 -0.620685 -0.203509\n",
            "25 -1.067658 -0.640821 -0.402333  1.213986 -0.307804  0.952258 -0.252522\n",
            "26 -0.418683  1.278551 -1.246597  0.584300 -0.257178 -0.676967  0.945092\n",
            "27 -0.792017  0.330900  0.030142  0.590541  1.063079 -0.143986  1.687094\n",
            "28  1.414868 -0.704570 -1.238024  1.902604  0.733437 -0.381331  0.702127\n",
            "29  1.316434  0.197845 -0.258879  1.257421 -0.706527  0.283934 -0.290410\n",
            "30  0.124143 -0.988150 -0.089869  1.283800  0.164242  1.010587  0.759271\n",
            "31  0.759993 -1.337564  0.533536  0.613277  2.600559 -0.486251 -1.654371\n",
            "32  1.096956 -0.588212 -0.562719  1.031198  1.037807 -1.069273  0.702159\n",
            "33 -0.831124 -0.976982 -0.634695  0.601223 -1.086756  1.099744  0.129061\n",
            "34  0.904020 -0.754821 -0.886217  2.086199 -0.498461 -0.685889 -0.229786\n",
            "35 -0.961739 -0.554066 -1.309086  1.243823 -0.204198 -0.543091  0.084140\n",
            "36  0.522442 -0.501337  0.420399 -0.561714 -1.844072  4.104275 -0.012717\n",
            "37  2.656972 -1.262071 -0.023942 -1.956623 -1.048872 -1.437655 -0.918337\n",
            "38  0.544422  2.464060 -1.096075 -0.733069 -0.045034  1.034935 -1.965631\n",
            "39  0.227819 -0.021402 -1.107645 -1.699196  0.158117  0.836014 -0.441941\n",
            "40 -0.919477 -0.172366 -2.055259 -0.754229 -0.182473  0.531298  0.802815\n",
            "41 -0.946035  0.787372 -0.660463 -1.057795  0.234482 -1.103397 -1.651642\n",
            "42 -1.684957 -1.056352 -0.665125 -0.811651 -1.765741 -0.966593 -0.695825\n",
            "43 -1.121162 -2.128490 -1.259728 -1.147545 -1.851224 -0.482951  1.330205\n",
            "44  0.468562 -1.419706 -0.307480 -1.723480  0.128175 -0.117978  1.290670\n",
            "45  0.791936  1.664719 -0.609543 -1.162540  0.000109  0.307555 -1.113791\n",
            "46 -0.751400 -0.919345 -0.425226  0.390152  1.346479 -0.073136 -0.268576\n",
            "47 -0.795564 -0.809002  0.386039 -0.675962  2.034961  0.638613  0.078988\n",
            "48  2.109464 -0.519323  0.576703 -0.808119 -0.803252 -1.176223  0.484486\n",
            "49  0.037869 -0.107858 -1.533031  0.101053  0.016841 -0.495415 -0.472877\n"
          ]
        }
      ]
    },
    {
      "cell_type": "code",
      "execution_count": 21,
      "id": "77a6c944",
      "metadata": {
        "id": "77a6c944"
      },
      "outputs": [],
      "source": [
        "label_columns = ['EC']\n",
        "labels = dataset.loc[:,label_columns]"
      ]
    },
    {
      "cell_type": "code",
      "execution_count": 22,
      "id": "b2a13e80",
      "metadata": {
        "colab": {
          "base_uri": "https://localhost:8080/"
        },
        "id": "b2a13e80",
        "outputId": "f3770a4c-5e41-4862-97d6-9891ade7b6e2"
      },
      "outputs": [
        {
          "output_type": "stream",
          "name": "stdout",
          "text": [
            "(50, 7)\n",
            "(50, 1)\n"
          ]
        }
      ],
      "source": [
        "print(pca_first.shape)\n",
        "print(labels.shape)"
      ]
    },
    {
      "cell_type": "markdown",
      "id": "b2212215",
      "metadata": {
        "id": "b2212215"
      },
      "source": [
        "## **Train Test Splitting**"
      ]
    },
    {
      "cell_type": "code",
      "execution_count": 23,
      "id": "2d670bc2",
      "metadata": {
        "id": "2d670bc2"
      },
      "outputs": [],
      "source": [
        "x_train,x_test,y_train,y_test = train_test_split(pca_first ,labels,test_size = 0.2,shuffle = True)"
      ]
    },
    {
      "cell_type": "code",
      "execution_count": 24,
      "id": "75e10112",
      "metadata": {
        "colab": {
          "base_uri": "https://localhost:8080/"
        },
        "id": "75e10112",
        "outputId": "3b6f1aba-8552-434e-bd5e-f2597227060f"
      },
      "outputs": [
        {
          "output_type": "stream",
          "name": "stdout",
          "text": [
            "x_train :  (40, 7)\n",
            "x_test :  (10, 7)\n",
            "y_train :  (40, 1)\n",
            "y_test :  (10, 1)\n"
          ]
        }
      ],
      "source": [
        "print(\"x_train : \",x_train.shape)\n",
        "print(\"x_test : \",x_test.shape)\n",
        "print(\"y_train : \",y_train.shape)\n",
        "print(\"y_test : \",y_test.shape)"
      ]
    },
    {
      "cell_type": "markdown",
      "id": "1bba18b6",
      "metadata": {
        "id": "1bba18b6"
      },
      "source": [
        "## **Models**"
      ]
    },
    {
      "cell_type": "markdown",
      "id": "6b8e87b3",
      "metadata": {
        "id": "6b8e87b3"
      },
      "source": [
        "###  **1. Random Forest Regressor**"
      ]
    },
    {
      "cell_type": "code",
      "execution_count": 25,
      "id": "c67d8f4e",
      "metadata": {
        "id": "c67d8f4e"
      },
      "outputs": [],
      "source": [
        "rf = RandomForestRegressor(n_estimators =35,max_depth=2, random_state=0)"
      ]
    },
    {
      "cell_type": "code",
      "execution_count": 26,
      "id": "5dc1dbfb",
      "metadata": {
        "id": "5dc1dbfb"
      },
      "outputs": [],
      "source": [
        "model1 = rf.fit(x_train,y_train.values.ravel()) #training"
      ]
    },
    {
      "cell_type": "code",
      "execution_count": 27,
      "id": "afba0b2a",
      "metadata": {
        "scrolled": true,
        "id": "afba0b2a"
      },
      "outputs": [],
      "source": [
        "y_pred1 = model1.predict(x_test)  #predicting"
      ]
    },
    {
      "cell_type": "code",
      "execution_count": 28,
      "id": "6927f341",
      "metadata": {
        "colab": {
          "base_uri": "https://localhost:8080/"
        },
        "id": "6927f341",
        "outputId": "5ca68728-996f-4194-cffc-97fb850fa432"
      },
      "outputs": [
        {
          "output_type": "execute_result",
          "data": {
            "text/plain": [
              "(       EC\n",
              " 2   0.279\n",
              " 45  0.207\n",
              " 16  0.242\n",
              " 5   0.250\n",
              " 20  0.203\n",
              " 30  0.205\n",
              " 39  0.203\n",
              " 36  0.141\n",
              " 18  0.152\n",
              " 21  0.186, array([0.24339268, 0.25353128, 0.20267435, 0.23087656, 0.19565212,\n",
              "        0.20341009, 0.24475722, 0.28136122, 0.21109308, 0.21595207]))"
            ]
          },
          "metadata": {},
          "execution_count": 28
        }
      ],
      "source": [
        "y_test,y_pred1"
      ]
    },
    {
      "cell_type": "markdown",
      "id": "b2faf3c4",
      "metadata": {
        "id": "b2faf3c4"
      },
      "source": [
        "## **Performance Metrics**\n",
        "### **R2, RMSE, MAE, MSE**"
      ]
    },
    {
      "cell_type": "code",
      "execution_count": 29,
      "id": "08c64fb9",
      "metadata": {
        "colab": {
          "base_uri": "https://localhost:8080/"
        },
        "id": "08c64fb9",
        "outputId": "2993f9fc-fd1a-4d87-e194-a0da32bd5f48"
      },
      "outputs": [
        {
          "output_type": "stream",
          "name": "stdout",
          "text": [
            "R^2:  -0.9382355934441644\n",
            "RMSE:  0.003123582952970879\n",
            "MSE:  0.05588902354640739\n",
            "MAE:  0.04206890804249943\n"
          ]
        }
      ],
      "source": [
        "r2 = r2_score(y_test,y_pred1)  #R2\n",
        "mae= mean_absolute_error(y_test,y_pred1) #mae\n",
        "rmse = mean_squared_error(y_test,y_pred1) #rmse\n",
        "mse = mean_squared_error(y_test,y_pred1, squared=False) #mse\n",
        "# print\n",
        "print(\"R^2: \",r2)\n",
        "print(\"RMSE: \",rmse)\n",
        "print(\"MSE: \",mse)\n",
        "print(\"MAE: \",mae)"
      ]
    },
    {
      "cell_type": "markdown",
      "id": "f62e58e0",
      "metadata": {
        "id": "f62e58e0"
      },
      "source": [
        "###  **2.SVR**"
      ]
    },
    {
      "cell_type": "code",
      "execution_count": 30,
      "id": "fbcb4537",
      "metadata": {
        "id": "fbcb4537"
      },
      "outputs": [],
      "source": [
        "svr = SVR(kernel='rbf', C=32, gamma=0.0313) #kernel = radial basis function"
      ]
    },
    {
      "cell_type": "code",
      "execution_count": 31,
      "id": "cc0ea053",
      "metadata": {
        "id": "cc0ea053"
      },
      "outputs": [],
      "source": [
        "model2 =svr.fit(x_train,y_train.values.ravel()) #fitting"
      ]
    },
    {
      "cell_type": "code",
      "execution_count": 32,
      "id": "df9b3c59",
      "metadata": {
        "id": "df9b3c59"
      },
      "outputs": [],
      "source": [
        "y_pred2 = model2.predict(x_test) #predicting"
      ]
    },
    {
      "cell_type": "code",
      "execution_count": 33,
      "id": "3a288c5a",
      "metadata": {
        "id": "3a288c5a"
      },
      "outputs": [],
      "source": [
        "# y_test,y_pred2"
      ]
    },
    {
      "cell_type": "code",
      "execution_count": 34,
      "id": "d15b6d48",
      "metadata": {
        "colab": {
          "base_uri": "https://localhost:8080/"
        },
        "id": "d15b6d48",
        "outputId": "cdf45ac9-231f-4420-cba9-3672ccd35c5c"
      },
      "outputs": [
        {
          "output_type": "stream",
          "name": "stdout",
          "text": [
            "R^2:  -1.3013945082559841\n",
            "RMSE:  0.0037088353337250157\n",
            "MSE:  0.06090020799410307\n",
            "MAE:  0.048797214940615084\n"
          ]
        }
      ],
      "source": [
        "r2 = r2_score(y_test,y_pred2)  #R2\n",
        "mae= mean_absolute_error(y_test,y_pred2) #mae\n",
        "rmse = mean_squared_error(y_test,y_pred2) #rmse\n",
        "mse = mean_squared_error(y_test,y_pred2, squared=False) #mse\n",
        "# print\n",
        "print(\"R^2: \",r2)\n",
        "print(\"RMSE: \",rmse)\n",
        "print(\"MSE: \",mse)\n",
        "print(\"MAE: \",mae)"
      ]
    },
    {
      "cell_type": "markdown",
      "id": "c504bf86",
      "metadata": {
        "id": "c504bf86"
      },
      "source": [
        "### **3. Multiple Linear Regression**"
      ]
    },
    {
      "cell_type": "code",
      "execution_count": 35,
      "id": "cb63006e",
      "metadata": {
        "id": "cb63006e"
      },
      "outputs": [],
      "source": [
        "mlr = LinearRegression()"
      ]
    },
    {
      "cell_type": "code",
      "execution_count": 36,
      "id": "db055d7e",
      "metadata": {
        "id": "db055d7e"
      },
      "outputs": [],
      "source": [
        "model3 = mlr.fit(x_train,y_train) #fitting"
      ]
    },
    {
      "cell_type": "code",
      "execution_count": 37,
      "id": "66e7ecd9",
      "metadata": {
        "id": "66e7ecd9"
      },
      "outputs": [],
      "source": [
        "y_pred3= model3.predict(x_test) #predicting"
      ]
    },
    {
      "cell_type": "code",
      "execution_count": 38,
      "id": "348d8d3e",
      "metadata": {
        "colab": {
          "base_uri": "https://localhost:8080/"
        },
        "id": "348d8d3e",
        "outputId": "63c55f4b-36c2-4295-f829-177638f84cbd"
      },
      "outputs": [
        {
          "output_type": "execute_result",
          "data": {
            "text/plain": [
              "(       EC\n",
              " 2   0.279\n",
              " 45  0.207\n",
              " 16  0.242\n",
              " 5   0.250\n",
              " 20  0.203\n",
              " 30  0.205\n",
              " 39  0.203\n",
              " 36  0.141\n",
              " 18  0.152\n",
              " 21  0.186, array([[0.22233191],\n",
              "        [0.30671875],\n",
              "        [0.19482678],\n",
              "        [0.24214671],\n",
              "        [0.16114736],\n",
              "        [0.18045769],\n",
              "        [0.32840772],\n",
              "        [0.30647587],\n",
              "        [0.16780248],\n",
              "        [0.18102229]]))"
            ]
          },
          "metadata": {},
          "execution_count": 38
        }
      ],
      "source": [
        "y_test,y_pred3"
      ]
    },
    {
      "cell_type": "code",
      "execution_count": 39,
      "id": "e90096ba",
      "metadata": {
        "colab": {
          "base_uri": "https://localhost:8080/"
        },
        "id": "e90096ba",
        "outputId": "2156f74f-d3bf-4401-fa10-cfcdfe2fe498"
      },
      "outputs": [
        {
          "output_type": "stream",
          "name": "stdout",
          "text": [
            "R^2:  -2.7963162387852263\n",
            "RMSE:  0.006117991397776723\n",
            "MSE:  0.07821759007906548\n",
            "MAE:  0.05894720792319315\n"
          ]
        }
      ],
      "source": [
        "r2 = r2_score(y_test,y_pred3)  #R2\n",
        "mae= mean_absolute_error(y_test,y_pred3) #mae\n",
        "rmse = mean_squared_error(y_test,y_pred3) #rmse\n",
        "mse = mean_squared_error(y_test,y_pred3, squared=False) #mse\n",
        "# print\n",
        "print(\"R^2: \",r2)\n",
        "print(\"RMSE: \",rmse)\n",
        "print(\"MSE: \",mse)\n",
        "print(\"MAE: \",mae)"
      ]
    },
    {
      "cell_type": "markdown",
      "id": "7be1da17",
      "metadata": {
        "id": "7be1da17"
      },
      "source": [
        "### **4. PLSR**"
      ]
    },
    {
      "cell_type": "code",
      "execution_count": 40,
      "id": "b2dc23b0",
      "metadata": {
        "id": "b2dc23b0"
      },
      "outputs": [],
      "source": [
        "plsr = PLSRegression(n_components=7)"
      ]
    },
    {
      "cell_type": "code",
      "execution_count": 41,
      "id": "62072d08",
      "metadata": {
        "id": "62072d08"
      },
      "outputs": [],
      "source": [
        "model4 = plsr.fit(x_train,y_train) #fitting"
      ]
    },
    {
      "cell_type": "code",
      "execution_count": 42,
      "id": "a40d10e4",
      "metadata": {
        "id": "a40d10e4"
      },
      "outputs": [],
      "source": [
        "y_pred4 = model4.predict(x_test) #predicting"
      ]
    },
    {
      "cell_type": "code",
      "execution_count": 43,
      "id": "b0a52df6",
      "metadata": {
        "colab": {
          "base_uri": "https://localhost:8080/"
        },
        "id": "b0a52df6",
        "outputId": "02f65335-644c-4a4c-8e3f-0a36021879f1"
      },
      "outputs": [
        {
          "output_type": "execute_result",
          "data": {
            "text/plain": [
              "(       EC\n",
              " 2   0.279\n",
              " 45  0.207\n",
              " 16  0.242\n",
              " 5   0.250\n",
              " 20  0.203\n",
              " 30  0.205\n",
              " 39  0.203\n",
              " 36  0.141\n",
              " 18  0.152\n",
              " 21  0.186, array([[0.22233191],\n",
              "        [0.30671875],\n",
              "        [0.19482678],\n",
              "        [0.24214671],\n",
              "        [0.16114736],\n",
              "        [0.18045769],\n",
              "        [0.32840772],\n",
              "        [0.30647587],\n",
              "        [0.16780248],\n",
              "        [0.18102229]]))"
            ]
          },
          "metadata": {},
          "execution_count": 43
        }
      ],
      "source": [
        "y_test,y_pred4"
      ]
    },
    {
      "cell_type": "code",
      "execution_count": 44,
      "id": "c01c971b",
      "metadata": {
        "colab": {
          "base_uri": "https://localhost:8080/"
        },
        "id": "c01c971b",
        "outputId": "0321d8e4-1c16-4ecf-ac16-3e8ea2a5e91a"
      },
      "outputs": [
        {
          "output_type": "stream",
          "name": "stdout",
          "text": [
            "R^2:  -2.7963162387852223\n",
            "RMSE:  0.006117991397776716\n",
            "MSE:  0.07821759007906544\n",
            "MAE:  0.05894720792319309\n"
          ]
        }
      ],
      "source": [
        "r2 = r2_score(y_test,y_pred4)  #R2\n",
        "mae= mean_absolute_error(y_test,y_pred4) #mae\n",
        "rmse = mean_squared_error(y_test,y_pred4) #rmse\n",
        "mse = mean_squared_error(y_test,y_pred4, squared=False) #mse\n",
        "# print\n",
        "print(\"R^2: \",r2)\n",
        "print(\"RMSE: \",rmse)\n",
        "print(\"MSE: \",mse)\n",
        "print(\"MAE: \",mae)"
      ]
    },
    {
      "cell_type": "markdown",
      "id": "84bce6f8",
      "metadata": {
        "id": "84bce6f8"
      },
      "source": [
        "### **5.XGBR (Extreme Gradient Boost Regressor)**"
      ]
    },
    {
      "cell_type": "code",
      "execution_count": 45,
      "id": "1e7b774f",
      "metadata": {
        "id": "1e7b774f"
      },
      "outputs": [],
      "source": [
        "params = {\n",
        "    \"n_estimators\": 500,\n",
        "    \"max_depth\": 4,\n",
        "    \"min_samples_split\": 5,\n",
        "    \"learning_rate\": 0.001,\n",
        "    \"loss\": \"squared_error\",\n",
        "}\n",
        "xgbr = ensemble.GradientBoostingRegressor(**params)\n",
        "model5  = xgbr.fit(x_train, y_train.values.ravel())  #fitting"
      ]
    },
    {
      "cell_type": "code",
      "execution_count": 46,
      "id": "5db9ac7e",
      "metadata": {
        "id": "5db9ac7e"
      },
      "outputs": [],
      "source": [
        "y_pred5 = model5.predict(x_test) #predicting"
      ]
    },
    {
      "cell_type": "code",
      "execution_count": 47,
      "id": "55efda95",
      "metadata": {
        "colab": {
          "base_uri": "https://localhost:8080/"
        },
        "id": "55efda95",
        "outputId": "a3648719-0513-4f4f-d7e0-d0bace21c1ad"
      },
      "outputs": [
        {
          "output_type": "execute_result",
          "data": {
            "text/plain": [
              "(       EC\n",
              " 2   0.279\n",
              " 45  0.207\n",
              " 16  0.242\n",
              " 5   0.250\n",
              " 20  0.203\n",
              " 30  0.205\n",
              " 39  0.203\n",
              " 36  0.141\n",
              " 18  0.152\n",
              " 21  0.186, array([0.22664158, 0.25148804, 0.22079625, 0.2338735 , 0.20998285,\n",
              "        0.2221695 , 0.23982692, 0.26436591, 0.22385014, 0.24004881]))"
            ]
          },
          "metadata": {},
          "execution_count": 47
        }
      ],
      "source": [
        "y_test,y_pred5"
      ]
    },
    {
      "cell_type": "code",
      "execution_count": 48,
      "id": "f1d6710f",
      "metadata": {
        "colab": {
          "base_uri": "https://localhost:8080/"
        },
        "id": "f1d6710f",
        "outputId": "dcf6e1f7-99e2-4e77-ddd2-68100860350c"
      },
      "outputs": [
        {
          "output_type": "stream",
          "name": "stdout",
          "text": [
            "R^2:  -0.8884119656328915\n",
            "RMSE:  0.003043289187335344\n",
            "MSE:  0.05516601478569341\n",
            "MAE:  0.04444208517357371\n"
          ]
        }
      ],
      "source": [
        "r2 = r2_score(y_test,y_pred5)  #R2\n",
        "mae= mean_absolute_error(y_test,y_pred5) #mae\n",
        "rmse = mean_squared_error(y_test,y_pred5) #rmse\n",
        "mse = mean_squared_error(y_test,y_pred5, squared=False) #mse\n",
        "# print\n",
        "print(\"R^2: \",r2)\n",
        "print(\"RMSE: \",rmse)\n",
        "print(\"MSE: \",mse)\n",
        "print(\"MAE: \",mae)"
      ]
    },
    {
      "cell_type": "markdown",
      "id": "daee6949",
      "metadata": {
        "id": "daee6949"
      },
      "source": [
        "### **6.AdaBoost**"
      ]
    },
    {
      "cell_type": "code",
      "execution_count": 49,
      "id": "5b0352bc",
      "metadata": {
        "id": "5b0352bc"
      },
      "outputs": [],
      "source": [
        "ada = AdaBoostRegressor(random_state=0, n_estimators=100)\n",
        "model6 = ada.fit(x_train, y_train.values.ravel()) #fitting"
      ]
    },
    {
      "cell_type": "code",
      "execution_count": 50,
      "id": "efd820ef",
      "metadata": {
        "id": "efd820ef"
      },
      "outputs": [],
      "source": [
        "y_pred6 = model6.predict(x_test) #predicting"
      ]
    },
    {
      "cell_type": "code",
      "execution_count": 51,
      "id": "655e0d62",
      "metadata": {
        "colab": {
          "base_uri": "https://localhost:8080/"
        },
        "id": "655e0d62",
        "outputId": "7ab3fd8c-b6c2-4309-aa47-773b3239e1b0"
      },
      "outputs": [
        {
          "output_type": "execute_result",
          "data": {
            "text/plain": [
              "(       EC\n",
              " 2   0.279\n",
              " 45  0.207\n",
              " 16  0.242\n",
              " 5   0.250\n",
              " 20  0.203\n",
              " 30  0.205\n",
              " 39  0.203\n",
              " 36  0.141\n",
              " 18  0.152\n",
              " 21  0.186, array([0.214     , 0.273     , 0.21911765, 0.23065   , 0.181     ,\n",
              "        0.21207692, 0.22473333, 0.27230769, 0.213     , 0.21207692]))"
            ]
          },
          "metadata": {},
          "execution_count": 51
        }
      ],
      "source": [
        "y_test,y_pred6"
      ]
    },
    {
      "cell_type": "code",
      "execution_count": 52,
      "id": "cf515acc",
      "metadata": {
        "colab": {
          "base_uri": "https://localhost:8080/"
        },
        "id": "cf515acc",
        "outputId": "fb494cc9-8e1f-4544-b8d3-fb4dcec399da"
      },
      "outputs": [
        {
          "output_type": "stream",
          "name": "stdout",
          "text": [
            "R^2:  -3.4977014083546845\n",
            "RMSE:  0.0032128161170470416\n",
            "MSE:  0.056681708840216186\n",
            "MAE:  0.044242722473604834\n"
          ]
        }
      ],
      "source": [
        "r2 = r2_score(y_pred6,y_test)  #R2\n",
        "mae= mean_absolute_error(y_test,y_pred6) #mae\n",
        "rmse = mean_squared_error(y_test,y_pred6) #rmse\n",
        "mse = mean_squared_error(y_test,y_pred6, squared=False) #mse\n",
        "# print\n",
        "print(\"R^2: \",r2)\n",
        "print(\"RMSE: \",rmse)\n",
        "print(\"MSE: \",mse)\n",
        "print(\"MAE: \",mae)"
      ]
    },
    {
      "cell_type": "markdown",
      "id": "a918bf2f",
      "metadata": {
        "id": "a918bf2f"
      },
      "source": [
        "### **7. Decision Tree Regressor**"
      ]
    },
    {
      "cell_type": "code",
      "execution_count": 53,
      "id": "1c9443b6",
      "metadata": {
        "id": "1c9443b6"
      },
      "outputs": [],
      "source": [
        "decTree= DecisionTreeRegressor(random_state=0)\n",
        "model7 = decTree.fit(x_train, y_train) #fitting"
      ]
    },
    {
      "cell_type": "code",
      "execution_count": 54,
      "id": "7e2131e2",
      "metadata": {
        "id": "7e2131e2"
      },
      "outputs": [],
      "source": [
        "y_pred7 = model7.predict(x_test) #predicting"
      ]
    },
    {
      "cell_type": "code",
      "execution_count": 55,
      "id": "eb65900e",
      "metadata": {
        "colab": {
          "base_uri": "https://localhost:8080/"
        },
        "id": "eb65900e",
        "outputId": "81090d95-38e1-4c70-ef50-9396ee3f6bff"
      },
      "outputs": [
        {
          "output_type": "execute_result",
          "data": {
            "text/plain": [
              "(       EC\n",
              " 2   0.279\n",
              " 45  0.207\n",
              " 16  0.242\n",
              " 5   0.250\n",
              " 20  0.203\n",
              " 30  0.205\n",
              " 39  0.203\n",
              " 36  0.141\n",
              " 18  0.152\n",
              " 21  0.186,\n",
              " array([0.21 , 0.323, 0.181, 0.213, 0.168, 0.182, 0.213, 0.319, 0.182,\n",
              "        0.162]))"
            ]
          },
          "metadata": {},
          "execution_count": 55
        }
      ],
      "source": [
        "y_test,y_pred7"
      ]
    },
    {
      "cell_type": "code",
      "execution_count": 56,
      "id": "a5c63dcd",
      "metadata": {
        "colab": {
          "base_uri": "https://localhost:8080/"
        },
        "id": "a5c63dcd",
        "outputId": "feb878d5-18b8-4e8b-c3ea-d12b90d328ff"
      },
      "outputs": [
        {
          "output_type": "stream",
          "name": "stdout",
          "text": [
            "R^2:  -2.61891583310581\n",
            "RMSE:  0.0058321000000000015\n",
            "MSE:  0.07636818709384165\n",
            "MAE:  0.058300000000000005\n"
          ]
        }
      ],
      "source": [
        "r2 = r2_score(y_test,y_pred7)  #R2\n",
        "mae= mean_absolute_error(y_test,y_pred7) #mae\n",
        "rmse = mean_squared_error(y_test,y_pred7) #rmse\n",
        "mse = mean_squared_error(y_test,y_pred7, squared=False) #mse\n",
        "# print\n",
        "print(\"R^2: \",r2)\n",
        "print(\"RMSE: \",rmse)\n",
        "print(\"MSE: \",mse)\n",
        "print(\"MAE: \",mae)"
      ]
    },
    {
      "cell_type": "markdown",
      "id": "d3d93fd7",
      "metadata": {
        "id": "d3d93fd7"
      },
      "source": [
        "### **8.Multi layer perceptron** "
      ]
    },
    {
      "cell_type": "code",
      "execution_count": 57,
      "id": "b69e48dd",
      "metadata": {
        "id": "b69e48dd"
      },
      "outputs": [],
      "source": [
        "mlp = MLPRegressor(random_state=1, max_iter=5000)\n",
        "model8 = mlp.fit(x_train, y_train.values.ravel())"
      ]
    },
    {
      "cell_type": "code",
      "execution_count": 58,
      "id": "e3cc38ad",
      "metadata": {
        "id": "e3cc38ad"
      },
      "outputs": [],
      "source": [
        "y_pred8 = model8.predict(x_test)"
      ]
    },
    {
      "cell_type": "code",
      "execution_count": 59,
      "id": "4ff18390",
      "metadata": {
        "colab": {
          "base_uri": "https://localhost:8080/"
        },
        "id": "4ff18390",
        "outputId": "37a40a48-c82a-4d34-e1f7-307276d1c852"
      },
      "outputs": [
        {
          "output_type": "execute_result",
          "data": {
            "text/plain": [
              "(       EC\n",
              " 2   0.279\n",
              " 45  0.207\n",
              " 16  0.242\n",
              " 5   0.250\n",
              " 20  0.203\n",
              " 30  0.205\n",
              " 39  0.203\n",
              " 36  0.141\n",
              " 18  0.152\n",
              " 21  0.186, array([0.28021071, 0.20268645, 0.19497233, 0.21442984, 0.23663521,\n",
              "        0.23212652, 0.24517674, 0.22242757, 0.20330391, 0.20047101]))"
            ]
          },
          "metadata": {},
          "execution_count": 59
        }
      ],
      "source": [
        "y_test,y_pred8"
      ]
    },
    {
      "cell_type": "code",
      "execution_count": 60,
      "id": "dc25eee7",
      "metadata": {
        "colab": {
          "base_uri": "https://localhost:8080/"
        },
        "id": "dc25eee7",
        "outputId": "82082e48-643e-4f9d-b25e-57ef0d4a75af"
      },
      "outputs": [
        {
          "output_type": "stream",
          "name": "stdout",
          "text": [
            "R^2:  -0.03098332980009788\n",
            "RMSE:  0.0016614914949726466\n",
            "MSE:  0.040761397117525876\n",
            "MAE:  0.03382630621211359\n"
          ]
        }
      ],
      "source": [
        "r2 = r2_score(y_test,y_pred8)  #R2\n",
        "mae= mean_absolute_error(y_test,y_pred8) #mae\n",
        "rmse = mean_squared_error(y_test,y_pred8) #rmse\n",
        "mse = mean_squared_error(y_test,y_pred8, squared=False) #mse\n",
        "# print\n",
        "print(\"R^2: \",r2)\n",
        "print(\"RMSE: \",rmse)\n",
        "print(\"MSE: \",mse)\n",
        "print(\"MAE: \",mae)"
      ]
    },
    {
      "cell_type": "markdown",
      "id": "6d6137a6",
      "metadata": {
        "id": "6d6137a6"
      },
      "source": [
        "### **9. Naive Bayes Regressor**"
      ]
    },
    {
      "cell_type": "code",
      "execution_count": 61,
      "id": "13ba6e5b",
      "metadata": {
        "id": "13ba6e5b"
      },
      "outputs": [],
      "source": [
        "# nb = GaussianNB()\n",
        "# model9 = nb.fit(x_train, y_train.values.ravel()) #fitting but give error\n",
        "# y_pred9 = model9.predict(x_test)"
      ]
    },
    {
      "cell_type": "code",
      "execution_count": 62,
      "id": "83b269e0",
      "metadata": {
        "id": "83b269e0"
      },
      "outputs": [],
      "source": [
        "# y_test,y_pred9\n",
        "# r2 = r2_score(y_test,y_pred9)  #R2\n",
        "# mae= mean_absolute_error(y_test,y_pred9) #mae\n",
        "# rmse = mean_squared_error(y_test,y_pred9) #rmse\n",
        "# mse = mean_squared_error(y_test,y_pred9, squared=False) #mse\n",
        "# # print\n",
        "# print(\"R^2: \",r2)\n",
        "# print(\"RMSE: \",rmse)\n",
        "# print(\"MSE: \",mse)\n",
        "# print(\"MAE: \",mae)"
      ]
    },
    {
      "cell_type": "markdown",
      "id": "5bf46297",
      "metadata": {
        "id": "5bf46297"
      },
      "source": [
        "### **Save the model**"
      ]
    },
    {
      "cell_type": "code",
      "execution_count": 63,
      "id": "d20ac135",
      "metadata": {
        "id": "d20ac135"
      },
      "outputs": [],
      "source": [
        "# 1-Method:  Using Pickle\n",
        "# file_name = \"file_name.pickle\"\n",
        "\n",
        "# pickle.dump(model_name, open(file_name, \"wb\")) # save model\n",
        "# loaded_model = pickle.load(open(file_name, \"rb\")) # load model\n",
        "\n",
        "\n",
        "# prediction = loaded_model.predict(give_value)# use loaded model to compute predictions\n",
        "\n",
        "# 2-Method: Using joblib\n",
        "# file_name = \"file_name.joblib\"\n",
        "\n",
        "# joblib.dump(rf, file_name) # save model\n",
        "\n",
        "# loaded_model = joblib.load(file_name) # load model\n",
        "\n",
        "# prediction = loaded_model.predict(give_value) # use loaded model to compute predictions\n"
      ]
    },
    {
      "cell_type": "code",
      "source": [],
      "metadata": {
        "id": "kvqn_5mtuTYk"
      },
      "id": "kvqn_5mtuTYk",
      "execution_count": 63,
      "outputs": []
    }
  ],
  "metadata": {
    "kernelspec": {
      "display_name": "Python 3 (ipykernel)",
      "language": "python",
      "name": "python3"
    },
    "language_info": {
      "codemirror_mode": {
        "name": "ipython",
        "version": 3
      },
      "file_extension": ".py",
      "mimetype": "text/x-python",
      "name": "python",
      "nbconvert_exporter": "python",
      "pygments_lexer": "ipython3",
      "version": "3.10.7"
    },
    "colab": {
      "provenance": []
    }
  },
  "nbformat": 4,
  "nbformat_minor": 5
}